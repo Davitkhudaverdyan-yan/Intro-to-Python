{
 "cells": [
  {
   "cell_type": "markdown",
   "metadata": {},
   "source": [
    "# Conditionals\n",
    "### Problem 1"
   ]
  },
  {
   "cell_type": "code",
   "execution_count": 2,
   "metadata": {},
   "outputs": [
    {
     "name": "stdout",
     "output_type": "stream",
     "text": [
      "how many pairs of shoes do you want 7\n",
      "You don’t get a discount\n"
     ]
    }
   ],
   "source": [
    "n_shoes = int(input(\"how many pairs of shoes do you want \", ))\n",
    "\n",
    "\n",
    "if n_shoes * 100 > 1000:\n",
    "    print(\"You get a discount\")\n",
    "else:\n",
    "    print(\"You don’t get a discount\")\n",
    "    \n"
   ]
  },
  {
   "cell_type": "markdown",
   "metadata": {},
   "source": [
    "### Problem 2"
   ]
  },
  {
   "cell_type": "code",
   "execution_count": 5,
   "metadata": {},
   "outputs": [
    {
     "name": "stdout",
     "output_type": "stream",
     "text": [
      "Good job\n"
     ]
    }
   ],
   "source": [
    "\n",
    "\n",
    "d = {\"name\": \"Armen\", \"age\": 15, \"grades\": [10, 8, 8, 4, 6, 7] }\n",
    "average_grade = sum(d [\"grades\"])/len(d [\"grades\"])\n",
    "\n",
    "if average_grade > 7:\n",
    "    print(\"Good job\")\n",
    "else:\n",
    "    print(\"You need to work more\")"
   ]
  },
  {
   "cell_type": "markdown",
   "metadata": {},
   "source": [
    "# Loops and loop control statements"
   ]
  },
  {
   "cell_type": "markdown",
   "metadata": {},
   "source": [
    "### Problem 3"
   ]
  },
  {
   "cell_type": "code",
   "execution_count": 6,
   "metadata": {},
   "outputs": [
    {
     "name": "stdout",
     "output_type": "stream",
     "text": [
      "1\n",
      "3\n",
      "5\n",
      "7\n",
      "9\n"
     ]
    }
   ],
   "source": [
    "for i in range(11):\n",
    "    if i % 2 == 0:\n",
    "        continue\n",
    "    print(i)"
   ]
  },
  {
   "cell_type": "markdown",
   "metadata": {},
   "source": [
    "### Problem 4"
   ]
  },
  {
   "cell_type": "code",
   "execution_count": 12,
   "metadata": {},
   "outputs": [
    {
     "name": "stdout",
     "output_type": "stream",
     "text": [
      "11\n"
     ]
    }
   ],
   "source": [
    "list1 = [1, 3, 5, 7, 9, 11, 13, 15] \n",
    "list2 = [4, 6,14, 11, 8, 16]\n",
    "a = False\n",
    "\n",
    "for l1 in list1:\n",
    "    for l2 in list2:\n",
    "        if l1==l2:\n",
    "            print(l1)\n",
    "            a = True\n",
    "            break\n",
    "            \n",
    "    if a == True:\n",
    "        break"
   ]
  },
  {
   "cell_type": "markdown",
   "metadata": {},
   "source": [
    "### Problem 5"
   ]
  },
  {
   "cell_type": "code",
   "execution_count": 38,
   "metadata": {},
   "outputs": [
    {
     "name": "stdout",
     "output_type": "stream",
     "text": [
      "how about desert: ice cream\n",
      "Your desert will arrive in 10 minutes\n"
     ]
    }
   ],
   "source": [
    "menu = [\"ice cream\", \"chocolate\", \"apple crisp\", \"cookies\"]\n",
    "desert = input(\"how about desert: \")\n",
    "\n",
    "while True:\n",
    "    if desert in menu:\n",
    "        print(\"Your desert will arrive in 10 minutes\")\n",
    "        break\n",
    "    else:\n",
    "        print(\"Please choose another desert\")\n",
    "        break  "
   ]
  },
  {
   "cell_type": "markdown",
   "metadata": {},
   "source": [
    "# List comprehension"
   ]
  },
  {
   "cell_type": "markdown",
   "metadata": {},
   "source": [
    "### Problem 6"
   ]
  },
  {
   "cell_type": "code",
   "execution_count": 58,
   "metadata": {},
   "outputs": [
    {
     "name": "stdout",
     "output_type": "stream",
     "text": [
      "4\n"
     ]
    }
   ],
   "source": [
    "list2 = [1, 3, 5, 7, 8, 9, 11, 13, 15] \n",
    "print(len([x for x in list2 if x >= 5 and x <= 10]))\n"
   ]
  },
  {
   "cell_type": "markdown",
   "metadata": {},
   "source": [
    "### Problem 7"
   ]
  },
  {
   "cell_type": "code",
   "execution_count": 64,
   "metadata": {},
   "outputs": [
    {
     "name": "stdout",
     "output_type": "stream",
     "text": [
      "[[10, 20, 40], [40, 50, 60], [70, 80, 90]]\n",
      "[40, 60, 90]\n"
     ]
    }
   ],
   "source": [
    "list4 = [[10, 20, 40], [40, 50, 60],[70, 80, 90]]\n",
    "print(list4)\n",
    "\n",
    "def Extract(list4):\n",
    "    return [item[-1] for item in list4] \n",
    "print(Extract(list4)) \n",
    "###??? can not go on"
   ]
  },
  {
   "cell_type": "code",
   "execution_count": null,
   "metadata": {},
   "outputs": [],
   "source": []
  }
 ],
 "metadata": {
  "kernelspec": {
   "display_name": "Python 3",
   "language": "python",
   "name": "python3"
  },
  "language_info": {
   "codemirror_mode": {
    "name": "ipython",
    "version": 3
   },
   "file_extension": ".py",
   "mimetype": "text/x-python",
   "name": "python",
   "nbconvert_exporter": "python",
   "pygments_lexer": "ipython3",
   "version": "3.7.4"
  }
 },
 "nbformat": 4,
 "nbformat_minor": 2
}
