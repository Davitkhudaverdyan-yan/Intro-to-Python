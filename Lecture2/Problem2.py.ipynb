{
 "cells": [
  {
   "cell_type": "code",
   "execution_count": 5,
   "metadata": {},
   "outputs": [
    {
     "name": "stdout",
     "output_type": "stream",
     "text": [
      "GugoDavit\n",
      "welcome Davit\n"
     ]
    }
   ],
   "source": [
    "user_name =input(\"Gugo\")\n",
    "print(\"welcome\",user_name)"
   ]
  },
  {
   "cell_type": "code",
   "execution_count": 19,
   "metadata": {},
   "outputs": [
    {
     "ename": "NameError",
     "evalue": "name 'datetime' is not defined",
     "output_type": "error",
     "traceback": [
      "\u001b[1;31m---------------------------------------------------------------------------\u001b[0m",
      "\u001b[1;31mNameError\u001b[0m                                 Traceback (most recent call last)",
      "\u001b[1;32m<ipython-input-19-97aa4eaa939a>\u001b[0m in \u001b[0;36m<module>\u001b[1;34m\u001b[0m\n\u001b[1;32m----> 1\u001b[1;33m \u001b[0mtday\u001b[0m \u001b[1;33m=\u001b[0m \u001b[0mdatetime\u001b[0m\u001b[1;33m.\u001b[0m\u001b[0mdate\u001b[0m\u001b[1;33m.\u001b[0m\u001b[0mtoday\u001b[0m\u001b[1;33m(\u001b[0m\u001b[1;36m28\u001b[0m\u001b[1;33m/\u001b[0m\u001b[1;36m10\u001b[0m\u001b[1;33m/\u001b[0m\u001b[1;36m19\u001b[0m\u001b[1;33m)\u001b[0m\u001b[1;33m\u001b[0m\u001b[1;33m\u001b[0m\u001b[0m\n\u001b[0m\u001b[0;32m      2\u001b[0m \u001b[0mprint\u001b[0m\u001b[1;33m(\u001b[0m\u001b[1;34m'Date: '\u001b[0m\u001b[1;33m,\u001b[0m \u001b[0mtday\u001b[0m\u001b[1;33m)\u001b[0m\u001b[1;33m\u001b[0m\u001b[1;33m\u001b[0m\u001b[0m\n",
      "\u001b[1;31mNameError\u001b[0m: name 'datetime' is not defined"
     ]
    }
   ],
   "source": [
    "tday = datetime.date.today()\n",
    "print('Date: ', tday)"
   ]
  },
  {
   "cell_type": "code",
   "execution_count": 21,
   "metadata": {},
   "outputs": [
    {
     "name": "stdout",
     "output_type": "stream",
     "text": [
      "Date:  2019-10-28\n",
      "Year:  2019\n",
      "Month:  10\n",
      "Day:  28\n",
      "Day of the week (version 1):  1\n",
      "Day of the week (version 0):  0\n"
     ]
    }
   ],
   "source": [
    "import datetime\n",
    "tday = datetime.date.today()\n",
    "print('Date: ', tday)\n",
    "print('Year: ', tday.year)\n",
    "print('Month: ', tday.month)\n",
    "print('Day: ', tday.day)\n",
    "print('Day of the week (version 1): ', tday.isoweekday())\n",
    "#Monday 1  Tuesday 2 ...\n",
    "print('Day of the week (version 0): ', tday.weekday())\n",
    "#Monday 0  Tuesday 1 ..."
   ]
  },
  {
   "cell_type": "code",
   "execution_count": 24,
   "metadata": {},
   "outputs": [
    {
     "name": "stdout",
     "output_type": "stream",
     "text": [
      "Date:  2019-10-28\n"
     ]
    }
   ],
   "source": [
    "import datetime\n",
    "tday = datetime.date.today()\n",
    "print('Date: ', tday)"
   ]
  },
  {
   "cell_type": "code",
   "execution_count": 26,
   "metadata": {},
   "outputs": [
    {
     "name": "stdout",
     "output_type": "stream",
     "text": [
      "2012-01-12 00:00:00\n"
     ]
    }
   ],
   "source": [
    "import argparse\n",
    "import datetime\n",
    "\n",
    "parser = argparse.ArgumentParser()\n",
    "parser.add_argument('date', type=lambda s: datetime.datetime.strptime(s, '%Y-%m-%d'))\n",
    "args = parser.parse_args(['2012-01-12'])  # For testing.  Pass no arguments in production\n",
    "print(args.date)"
   ]
  },
  {
   "cell_type": "code",
   "execution_count": null,
   "metadata": {},
   "outputs": [],
   "source": []
  }
 ],
 "metadata": {
  "kernelspec": {
   "display_name": "Python 3",
   "language": "python",
   "name": "python3"
  },
  "language_info": {
   "codemirror_mode": {
    "name": "ipython",
    "version": 3
   },
   "file_extension": ".py",
   "mimetype": "text/x-python",
   "name": "python",
   "nbconvert_exporter": "python",
   "pygments_lexer": "ipython3",
   "version": "3.7.4"
  }
 },
 "nbformat": 4,
 "nbformat_minor": 2
}
