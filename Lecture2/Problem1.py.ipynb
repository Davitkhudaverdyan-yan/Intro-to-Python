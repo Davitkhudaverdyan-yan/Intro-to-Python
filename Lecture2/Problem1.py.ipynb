{
 "cells": [
  {
   "cell_type": "code",
   "execution_count": 12,
   "metadata": {},
   "outputs": [
    {
     "name": "stdout",
     "output_type": "stream",
     "text": [
      "Script name: C:\\Users\\David\\Anaconda3\\lib\\site-packages\\ipykernel_launcher.py\n",
      "Arguments: ['-f', 'C:\\\\Users\\\\David\\\\AppData\\\\Roaming\\\\jupyter\\\\runtime\\\\kernel-43f19e15-3dd2-4d2b-8341-a05850bb88fd.json']\n",
      "# of arguments: 2\n"
     ]
    }
   ],
   "source": [
    "import sys\n",
    "\n",
    "\n",
    "print('Script name:', sys.argv[0])\n",
    "print('Arguments:', sys.argv[1:])\n",
    "print('# of arguments:', len(sys.argv[1:]))\n"
   ]
  },
  {
   "cell_type": "code",
   "execution_count": 10,
   "metadata": {},
   "outputs": [
    {
     "name": "stdout",
     "output_type": "stream",
     "text": [
      "Script name: C:\\Users\\David\\Anaconda3\\lib\\site-packages\\ipykernel_launcher.py\n",
      "Arguments: ['-f', 'C:\\\\Users\\\\David\\\\AppData\\\\Roaming\\\\jupyter\\\\runtime\\\\kernel-43f19e15-3dd2-4d2b-8341-a05850bb88fd.json']\n",
      "# of arguments: 2\n",
      "First argument: -f\n"
     ]
    }
   ],
   "source": [
    "import sys\n",
    "\n",
    "\n",
    "print('Script name:', sys.argv[0])\n",
    "print('Arguments:', sys.argv[1:])\n",
    "print('# of arguments:', len(sys.argv[1:]))\n",
    "a = sys.argv[1]\n",
    "print('First argument:', a)"
   ]
  },
  {
   "cell_type": "code",
   "execution_count": null,
   "metadata": {},
   "outputs": [],
   "source": []
  }
 ],
 "metadata": {
  "kernelspec": {
   "display_name": "Python 3",
   "language": "python",
   "name": "python3"
  },
  "language_info": {
   "codemirror_mode": {
    "name": "ipython",
    "version": 3
   },
   "file_extension": ".py",
   "mimetype": "text/x-python",
   "name": "python",
   "nbconvert_exporter": "python",
   "pygments_lexer": "ipython3",
   "version": "3.7.4"
  }
 },
 "nbformat": 4,
 "nbformat_minor": 2
}
